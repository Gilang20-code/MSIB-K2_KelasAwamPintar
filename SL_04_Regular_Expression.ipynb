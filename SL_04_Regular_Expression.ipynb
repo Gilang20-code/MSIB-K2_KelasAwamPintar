{
  "nbformat": 4,
  "nbformat_minor": 0,
  "metadata": {
    "colab": {
      "provenance": [],
      "include_colab_link": true
    },
    "kernelspec": {
      "name": "python3",
      "display_name": "Python 3"
    },
    "language_info": {
      "name": "python"
    },
    "accelerator": "GPU",
    "gpuClass": "standard"
  },
  "cells": [
    {
      "cell_type": "markdown",
      "metadata": {
        "id": "view-in-github",
        "colab_type": "text"
      },
      "source": [
        "<a href=\"https://colab.research.google.com/github/Gilang20-code/MSIB-K2_KelasAwamPintar/blob/main/SL_04_Regular_Expression.ipynb\" target=\"_parent\"><img src=\"https://colab.research.google.com/assets/colab-badge.svg\" alt=\"Open In Colab\"/></a>"
      ]
    },
    {
      "cell_type": "markdown",
      "source": [
        "## Regular Expression (Regex)\n",
        "> Library untuk pengenalan dan pengelolaan pola pada teks\n",
        ">\n",
        "\n",
        "Contoh implementasi:\n",
        "- Pola Email\n",
        "- Pola Nomor telepon\n",
        "- Pola url\n",
        "- Pola Nomor plat kendaraan bermotor\n",
        "- Menghilangkan karakter khusus pada teks\n",
        "- dll."
      ],
      "metadata": {
        "id": "V6uGozZv4e5K"
      }
    },
    {
      "cell_type": "markdown",
      "source": [
        "**Contoh Syntax dan Aturan-aturan pada class Regex**\n",
        "\n",
        "---\n",
        "Kelas Karakter\n",
        "---\n",
        "\n",
        "*   [ abc] = karakter a ,b atau c (kelas sederhana)\n",
        "*   [^abc] = kecuali karakter a ,b ,atau (negasi)\n",
        "*   [a-zA-Z] = karakter a sampai z huruf kecil , atau A sampai Z huruf besar ,(jarak)\n",
        "*   [a-z[x-y]] = karakter a sampai d ,atau m sampai p (a-xy-z : gabungan)\n",
        "*   [a-z0-9] = karakter a sampai z ,atau angka dari 0 sampai 9\n",
        "*   [a-z&&[^bc] = karakter a sampi z, kecuali untuk b dan c.\n",
        "\n",
        "---\n",
        "Meta Karakter\n",
        "---\n",
        "*   . = tanda titik ,yang berarti karakter apa saja\n",
        "*   \\d = angka digit apa saja:, seperti [0-9]\n",
        "*   \\D = selain angka digit : [^0-9]\n",
        "*   \\s = sebuah spasi pada kaarkter, seperti [ \\t\\n\\x0B\\f\\r]\n",
        "*   \\S = selain spasi pada karakter: [^\\s]\n",
        "*   \\w = huruf dan angka apa saja ,seperti [a-zA-Z_0-9]\n",
        "*   \\W = selain angka dan huruf ,[\\w]\n",
        "\n",
        "---\n",
        "Batasan Kecocokan Karakter\n",
        "---\n",
        "*   ^ = tanda awalan\n",
        "*   $ = tanda akhiran\n",
        "*   \\b = batasan kecocokan kata\n",
        "*   \\B = batasan kecocokan selain kata\n",
        "*   \\A = awalan untuk input text\n",
        "*   \\G = akhir dari kecocokan sebelumnya\n",
        "*   \\Z = akhir dari input text, kecuali final terminator jika ada\n",
        "*   \\z = akhir dari input text\n"
      ],
      "metadata": {
        "id": "oAlARrGQ4l-k"
      }
    },
    {
      "cell_type": "code",
      "execution_count": null,
      "metadata": {
        "id": "I1d9WoQ54eD_"
      },
      "outputs": [],
      "source": [
        "# Import Library Regex (re)\n",
        "import re\n",
        "\n",
        "# Pola Email\n",
        "email_pattern = re.compile(r'[\\w._%+-]+@[\\w\\.-]+\\.[a-zA-Z]{2,4}')\n",
        "txt = 'Contact kami di admin@thenextyunikorn.id, sales@yunikornbaru.com, atau hrd@yunikornindo.id'\n",
        "\n"
      ]
    },
    {
      "cell_type": "code",
      "source": [
        "txt"
      ],
      "metadata": {
        "colab": {
          "base_uri": "https://localhost:8080/",
          "height": 36
        },
        "id": "8tohi4k44f33",
        "outputId": "38e13490-d791-445e-97c7-14d502832200"
      },
      "execution_count": null,
      "outputs": [
        {
          "output_type": "execute_result",
          "data": {
            "text/plain": [
              "'Contact kami di admin@thenextyunikorn.id, sales@yunikornbaru.com, atau hrd@yunikornindo.id'"
            ],
            "application/vnd.google.colaboratory.intrinsic+json": {
              "type": "string"
            }
          },
          "metadata": {},
          "execution_count": 2
        }
      ]
    },
    {
      "cell_type": "markdown",
      "source": [
        "### Pola Email"
      ],
      "metadata": {
        "id": "eL7ag9IU5UEt"
      }
    },
    {
      "cell_type": "code",
      "source": [
        "# Menghapus Email dalam teks\n",
        "print( re.sub(email_pattern, ' ', txt))"
      ],
      "metadata": {
        "colab": {
          "base_uri": "https://localhost:8080/"
        },
        "id": "dz1D6cCR5NsP",
        "outputId": "b019229e-cb33-4644-d7eb-d78a5f6686e7"
      },
      "execution_count": null,
      "outputs": [
        {
          "output_type": "stream",
          "name": "stdout",
          "text": [
            "Contact kami di  ,  , atau  \n"
          ]
        }
      ]
    },
    {
      "cell_type": "code",
      "source": [
        "# Mengambil email dari teks berdasarkan pola regex yang ditentukan\n",
        "emails = re.findall(email_pattern, txt)\n",
        "print( 'Email yang ditemukan: ', emails)"
      ],
      "metadata": {
        "colab": {
          "base_uri": "https://localhost:8080/"
        },
        "id": "0hgD0Vj25XKP",
        "outputId": "4dd14be9-125f-44e4-f112-f3a3f91570cf"
      },
      "execution_count": null,
      "outputs": [
        {
          "output_type": "stream",
          "name": "stdout",
          "text": [
            "Email yang ditemukan:  ['admin@thenextyunikorn.id', 'sales@yunikornbaru.com', 'hrd@yunikornindo.id']\n"
          ]
        }
      ]
    },
    {
      "cell_type": "markdown",
      "source": [
        "### Pola Nomor Telepon"
      ],
      "metadata": {
        "id": "EftUKvWl5iwt"
      }
    },
    {
      "cell_type": "code",
      "source": [
        "# Pola telephone : \\d penanda angka di reguler Expression, \\s spasi, dan \"|\" adalah \"atau\"\n",
        "# \"?\" menyatakan pilihan (optional)\n",
        "phone_pattern = re.compile(r'(\\d{3}[-\\.\\s]??\\d{3}[-\\.\\s]??\\d{4,6}|\\(\\d{3}\\)\\s*\\d{3}[-\\.\\s]??\\d{4,6}|\\d{3,4}[-\\.\\s]??\\d{4,6})')\n",
        "txt = 'Contact kami di 021-7632456 atau 021-443-4162 atau 021 797 4524 atau 0822959020 atau +628199258643'"
      ],
      "metadata": {
        "id": "5uLcON-Z5Z3X"
      },
      "execution_count": null,
      "outputs": []
    },
    {
      "cell_type": "code",
      "source": [
        "# Sensor *** untuk pola Nomor Telepon\n",
        "print(re.sub(phone_pattern,'***',txt))"
      ],
      "metadata": {
        "colab": {
          "base_uri": "https://localhost:8080/"
        },
        "id": "I3EyrkQJ5lyt",
        "outputId": "e35f6aac-e5a4-4a75-e51a-9bb693356234"
      },
      "execution_count": null,
      "outputs": [
        {
          "output_type": "stream",
          "name": "stdout",
          "text": [
            "Contact kami di *** atau *** atau *** atau *** atau +***\n"
          ]
        }
      ]
    },
    {
      "cell_type": "code",
      "source": [
        "# Mengambil nomor telepon dari teks berdasarkan pola regex yang telah ditentukan\n",
        "phone_numbers = re.findall(phone_pattern,txt)\n",
        "print('Nomer telephone yang ditemukan: ', str(phone_numbers))"
      ],
      "metadata": {
        "colab": {
          "base_uri": "https://localhost:8080/"
        },
        "id": "7JRvMScm5ocU",
        "outputId": "ff89ba2b-58fc-461b-b1e4-02a6721320b6"
      },
      "execution_count": null,
      "outputs": [
        {
          "output_type": "stream",
          "name": "stdout",
          "text": [
            "Nomer telephone yang ditemukan:  ['021-7632456', '021-443-4162', '021 797 4524', '0822959020', '628199258643']\n"
          ]
        }
      ]
    },
    {
      "cell_type": "markdown",
      "source": [
        "###Pola URL atau Link"
      ],
      "metadata": {
        "id": "QX0TdMCy51Jo"
      }
    },
    {
      "cell_type": "code",
      "source": [
        "# Website URL http(s)\n",
        "url_pattern = re.compile(r'www|http:|https:+[^\\s]+[\\w]')\n",
        "txt = 'Teman teman dapat mengunjungi link berikut untuk sumber belajar: https://www.regular-expressions.info/ atau https://www.towardsdatascience.com atau https://wikipedia.org'\n"
      ],
      "metadata": {
        "id": "h4RUWsQ-5wvM"
      },
      "execution_count": null,
      "outputs": []
    },
    {
      "cell_type": "code",
      "source": [
        "# Menghapus url pada teks\n",
        "print(re.sub(url_pattern,' ',txt))"
      ],
      "metadata": {
        "colab": {
          "base_uri": "https://localhost:8080/"
        },
        "id": "6VPaWUE856EM",
        "outputId": "8e43005d-3cda-4ad2-e7fd-cc4c15a17d3f"
      },
      "execution_count": null,
      "outputs": [
        {
          "output_type": "stream",
          "name": "stdout",
          "text": [
            "Teman teman dapat mengunjungi link berikut untuk sumber belajar:  / atau   atau  \n"
          ]
        }
      ]
    },
    {
      "cell_type": "code",
      "source": [
        "# Mengambil url dari teks berdasarkan pola regex yang telah ditentukan\n",
        "urls = re.findall(url_pattern,txt)# get urls\n",
        "print('URL yang ditemukan: ',str(urls))"
      ],
      "metadata": {
        "colab": {
          "base_uri": "https://localhost:8080/"
        },
        "id": "dNG7stdk58W4",
        "outputId": "00345ae2-7430-4c60-b9be-2a5efa8c55b1"
      },
      "execution_count": null,
      "outputs": [
        {
          "output_type": "stream",
          "name": "stdout",
          "text": [
            "URL yang ditemukan:  ['https://www.regular-expressions.info', 'https://www.towardsdatascience.com', 'https://wikipedia.org']\n"
          ]
        }
      ]
    },
    {
      "cell_type": "markdown",
      "source": [
        "### Pola Plat Kendaraan Bermotor"
      ],
      "metadata": {
        "id": "LNiEbH3S6CN7"
      }
    },
    {
      "cell_type": "code",
      "source": [
        "plat_pattern = re.compile(r'[A-Z]{1,2}\\s\\d{1,4}\\s[A-Z]{1,3}')\n",
        "text = \"Mr.X punya 2 motor dan 1 mobil. Adapun plat nomornya yaitu B 234 AA, C 3244 YGS, dan D 3 S.\""
      ],
      "metadata": {
        "id": "s4QddXbx5-iJ"
      },
      "execution_count": null,
      "outputs": []
    },
    {
      "cell_type": "code",
      "source": [
        "# Menghapus plat kendaraan pada teks\n",
        "print(re.sub(plat_pattern, ' ', text))"
      ],
      "metadata": {
        "colab": {
          "base_uri": "https://localhost:8080/"
        },
        "id": "OFNIAGqK6GD_",
        "outputId": "651c539e-6cec-4514-bac5-dfeb5d6aa07a"
      },
      "execution_count": null,
      "outputs": [
        {
          "output_type": "stream",
          "name": "stdout",
          "text": [
            "Mr.X punya 2 motor dan 1 mobil. Adapun plat nomornya yaitu  ,  , dan  .\n"
          ]
        }
      ]
    },
    {
      "cell_type": "code",
      "source": [
        "kumpulan_plat_kendaraan = re.findall(plat_pattern, text)\n",
        "print(kumpulan_plat_kendaraan)"
      ],
      "metadata": {
        "colab": {
          "base_uri": "https://localhost:8080/"
        },
        "id": "hKLvdOf86Ia0",
        "outputId": "24abe6e8-0a25-4992-c0ee-3bb73c875b10"
      },
      "execution_count": null,
      "outputs": [
        {
          "output_type": "stream",
          "name": "stdout",
          "text": [
            "['B 234 AA', 'C 3244 YGS', 'D 3 S']\n"
          ]
        }
      ]
    },
    {
      "cell_type": "markdown",
      "source": [
        "### Menghilangkan Karakter Khusus"
      ],
      "metadata": {
        "id": "dko-Vzwk6RmO"
      }
    },
    {
      "cell_type": "code",
      "source": [
        "text = \"Halo @Orbit, apa kabar? #SapaKawan.\"\n",
        "result = re.sub(r'[@,.?#]', '', text)\n",
        "print(result)"
      ],
      "metadata": {
        "colab": {
          "base_uri": "https://localhost:8080/"
        },
        "id": "cQx-_U-m6LLV",
        "outputId": "d8b7e7c4-1c93-4c41-b63c-1b762a2da385"
      },
      "execution_count": null,
      "outputs": [
        {
          "output_type": "stream",
          "name": "stdout",
          "text": [
            "Halo Orbit apa kabar SapaKawan\n"
          ]
        }
      ]
    },
    {
      "cell_type": "markdown",
      "source": [
        "##Buat dipelajari tidak usah dikumpulkan!\n",
        "##FYI: **Just challenge ur knowledge**\n",
        "## Self-Activity 1\n",
        "**TEXT:**\n",
        "> Halo semua, namaku Andy Joe. Kemarin smartphoneku mendapat SMS tagihan Pinjaman Online dari nomor 08004398499. Selain itu emailku juga mendapatkan pesan serupa dari debtcollector@pinjolninuninu.com. Ternyata salah satu temanku menjadikan nomor telepon dan emailku sebagai penanggungjawab pinjaman onlinenya :(. Tak lama sosok pria berbadan bongsor datang ke rumahku dengan menggunakan mogenya. Ia menanyakan keberadaan temanku yang meminjam uang di perusahaan Pinjol tersebut. Aku yang tak tahu keberadaannya pun menjawab apa adanya. Tak lama kemudian pria tersebut pergi dan segera kuambil gambar mogenya dengan  plat PO 3030 AY. Setelah itu aku menghubungi temanku dan meminta penjelasan kepadanya.\n",
        ">\n",
        "---\n",
        "### Buatlah format pesan kepada teman Andy Joe untuk meminta penjelasan terkait dengan situasi yang sedang terjadi. (ganti teks yang cetak miring dan tebal menjadi nomor debtcollector, email debtcollector dan plat nomor)\n",
        ">\n",
        "\n",
        "**Format Pesan:**\n",
        "> \"*Halo xxxxx, Aku tadi habis didatangi debtcollector. Dia mengirimiku pesan lewat nomornya yaitu **nomor_debtcollector** dan email **email_debtcollector**. Dia bilang kamu jadiin nomorku dan emailku sebagai penanggungjawab. Bisa tolong jelasin? Terus aku tadi juga sempet foto motor yg dipake mas debtcollector. Plat nomornya **plat_nomor_debtcollector**.*\""
      ],
      "metadata": {
        "id": "xvvlUt1l6vu6"
      }
    },
    {
      "cell_type": "markdown",
      "source": [
        "## Self-Activity 2\n",
        "1. Buat Webscraping dan Crawling dari website berbeda selain warstek\n",
        "2. lakukan RegEx dari hasil Scraping\n",
        "3. visualisasikan kedalam dataframe dari hasil webscraping dan crawling\n",
        "4. Buat Data JSON untuk Chatbot resep makanan khas daerah teman-teman"
      ],
      "metadata": {
        "id": "JXuTglwVH1FC"
      }
    },
    {
      "cell_type": "markdown",
      "source": [
        "# **1. Format Pesan**"
      ],
      "metadata": {
        "id": "YoRqDlYhcMY3"
      }
    },
    {
      "cell_type": "code",
      "source": [
        "#Halo Andy Joe, Aku tadi habis didatangi debtcollector. Dia mengirimiku pesan lewat nomornya yaitu 08004398499 dan email debtcollector@pinjolninuninu.com. Dia bilang kamu jadiin nomorku dan emailku sebagai penanggungjawab. Bisa tolong jelasin? Terus aku tadi juga sempet foto motor yg dipake mas debtcollector. Plat nomornya PO 3030 AY."
      ],
      "metadata": {
        "id": "otv3T1NU6UJM"
      },
      "execution_count": null,
      "outputs": []
    },
    {
      "cell_type": "markdown",
      "source": [
        "# **2. Web Scraping dan Crawling**"
      ],
      "metadata": {
        "id": "lCufYOQIciA2"
      }
    },
    {
      "cell_type": "code",
      "source": [
        "import requests\n",
        "from bs4 import BeautifulSoup\n",
        "import pandas as pd\n",
        "import re\n",
        "import json\n",
        "\n",
        "# URL situs untuk di-scraping (contoh menggunakan halaman Wikipedia tentang masakan daerah)\n",
        "url = \"https://id.wikipedia.org/wiki/Masakan_Indonesia\"\n",
        "response = requests.get(url)\n",
        "soup = BeautifulSoup(response.text, \"html.parser\")\n",
        "\n",
        "# Mengambil paragraf dan judul dari halaman\n",
        "data = []\n",
        "for paragraph in soup.find_all(\"p\"):\n",
        "    text = paragraph.get_text()\n",
        "    # Menggunakan RegEx untuk mencari pola kata kunci tertentu\n",
        "    if re.search(r'\\bmasakan\\b|\\bmakanan\\b', text, re.IGNORECASE):\n",
        "        data.append(text)\n",
        "\n",
        "# Visualisasi data dalam DataFrame\n",
        "df = pd.DataFrame(data, columns=[\"Teks Artikel\"])\n",
        "print(df.head())\n"
      ],
      "metadata": {
        "colab": {
          "base_uri": "https://localhost:8080/"
        },
        "id": "eFpQ-6gmco4X",
        "outputId": "a66d4fea-c023-4257-ae12-c33aca0fa210"
      },
      "execution_count": null,
      "outputs": [
        {
          "output_type": "stream",
          "name": "stdout",
          "text": [
            "                                        Teks Artikel\n",
            "0  Hampir seluruh masakan Indonesia kaya dengan b...\n",
            "1  Pada dasarnya tidak ada satu bentuk tunggal \"m...\n",
            "2  Sebagai contoh, beras yang diolah menjadi nasi...\n",
            "3  Masakan Sumatra, sebagai contoh, sering kali m...\n",
            "4  Beberapa jenis hidangan asli Indonesia juga ki...\n"
          ]
        }
      ]
    },
    {
      "cell_type": "markdown",
      "source": [
        "# **3. RegEx dari hasil Scraping**"
      ],
      "metadata": {
        "id": "YXZbGrWlcxwY"
      }
    },
    {
      "cell_type": "code",
      "source": [
        "# Menggunakan RegEx untuk mencari kalimat yang mengandung kata \"makanan\" atau \"masakan\"\n",
        "filtered_text = []\n",
        "for text in df[\"Teks Artikel\"]:\n",
        "    sentences = re.findall(r'[^.!?]*\\b(masakan|makanan)\\b[^.!?]*[.!?]', text, re.IGNORECASE)\n",
        "    filtered_text.extend(sentences)\n",
        "\n",
        "# Memasukkan hasil RegEx ke dalam DataFrame baru\n",
        "df_filtered = pd.DataFrame(filtered_text, columns=[\"Kalimat Mengandung Kata Masakan/Makanan\"])\n",
        "print(df_filtered.head())\n"
      ],
      "metadata": {
        "colab": {
          "base_uri": "https://localhost:8080/"
        },
        "id": "bFSlvK-ic5cE",
        "outputId": "4854a5a9-a53f-4a95-d6b6-db867fdb0966"
      },
      "execution_count": null,
      "outputs": [
        {
          "output_type": "stream",
          "name": "stdout",
          "text": [
            "  Kalimat Mengandung Kata Masakan/Makanan\n",
            "0                                 masakan\n",
            "1                                 masakan\n",
            "2                                 makanan\n",
            "3                                 makanan\n",
            "4                                 masakan\n"
          ]
        }
      ]
    },
    {
      "cell_type": "markdown",
      "source": [
        "# **4. visualisasikan kedalam dataframe dari hasil webscraping dan crawling**"
      ],
      "metadata": {
        "id": "sVmGdoXCe5tj"
      }
    },
    {
      "cell_type": "code",
      "source": [
        "import pandas as pd\n",
        "\n",
        "# Contoh data\n",
        "data = [\"Artikel 1\", \"Artikel 2\", \"Artikel 3\"]  # Panjang 3\n",
        "filtered_text = [\"Masakan 1\", \"Masakan 2\"]  # Panjang 2\n",
        "\n",
        "# Memeriksa panjang\n",
        "len_data = len(data)\n",
        "len_filtered_text = len(filtered_text)\n",
        "\n",
        "print(f\"Panjang data: {len_data}, Panjang filter: {len_filtered_text}\")\n",
        "\n",
        "# Menyesuaikan panjang dengan menambahkan None atau string kosong\n",
        "if len_data > len_filtered_text:\n",
        "    # Tambahkan None untuk elemen yang hilang\n",
        "    filtered_text += [None] * (len_data - len_filtered_text)\n",
        "elif len_filtered_text > len_data:\n",
        "    # Tambahkan None untuk elemen yang hilang\n",
        "    data += [None] * (len_filtered_text - len_data)\n",
        "\n",
        "# Menggabungkan hasil dalam DataFrame akhir\n",
        "df_final = pd.DataFrame({\"Artikel Asli\": data, \"Filter Masakan\": filtered_text})\n",
        "\n",
        "# Menampilkan DataFrame\n",
        "print(df_final.head())"
      ],
      "metadata": {
        "colab": {
          "base_uri": "https://localhost:8080/"
        },
        "id": "h5u2vSzDe1xq",
        "outputId": "06499cf5-a83c-483d-e7df-29b31b5ff59d"
      },
      "execution_count": null,
      "outputs": [
        {
          "output_type": "stream",
          "name": "stdout",
          "text": [
            "Panjang data: 3, Panjang filter: 2\n",
            "  Artikel Asli Filter Masakan\n",
            "0    Artikel 1      Masakan 1\n",
            "1    Artikel 2      Masakan 2\n",
            "2    Artikel 3           None\n"
          ]
        }
      ]
    },
    {
      "cell_type": "markdown",
      "source": [
        "# **5. Buat Data JSON untuk Chatbot resep makanan khas daerah teman-teman**"
      ],
      "metadata": {
        "id": "HTztlJjmfq82"
      }
    },
    {
      "cell_type": "code",
      "source": [
        "import json\n",
        "\n",
        "# Contoh data resep makanan\n",
        "resep_makanan = {\n",
        "    \"makanan_khas\": [\n",
        "        {\n",
        "            \"nama\": \"Rendang\",\n",
        "            \"daerah\": \"Sumatera Barat\",\n",
        "            \"bahan\": [\"Daging sapi\", \"Santan\", \"Bumbu rendang\"],\n",
        "            \"cara_memasak\": \"Masak daging dengan bumbu hingga empuk.\"\n",
        "        },\n",
        "        {\n",
        "            \"nama\": \"Sate\",\n",
        "            \"daerah\": \"Jawa\",\n",
        "            \"bahan\": [\"Daging ayam\", \"Kecap\", \"Bumbu sate\"],\n",
        "            \"cara_memasak\": \"Tusuk daging dan bakar hingga matang.\"\n",
        "        },\n",
        "        {\n",
        "            \"nama\": \"Nasi Goreng\",\n",
        "            \"daerah\": \"Seluruh Indonesia\",\n",
        "            \"bahan\": [\"Nasi\", \"Kecap\", \"Sayuran\"],\n",
        "            \"cara_memasak\": \"Tumis semua bahan dan campurkan nasi.\"\n",
        "        }\n",
        "    ]\n",
        "}\n",
        "\n",
        "# Menyimpan ke file JSON\n",
        "with open('resep_makanan.json', 'w') as json_file:\n",
        "    json.dump(resep_makanan, json_file, indent=4)\n",
        "\n",
        "# Menampilkan data JSON\n",
        "print(json.dumps(resep_makanan, indent=4))"
      ],
      "metadata": {
        "colab": {
          "base_uri": "https://localhost:8080/"
        },
        "id": "hryvY-n4fqZm",
        "outputId": "b771bd84-34be-4ddd-c44d-cd098d9cb717"
      },
      "execution_count": null,
      "outputs": [
        {
          "output_type": "stream",
          "name": "stdout",
          "text": [
            "{\n",
            "    \"makanan_khas\": [\n",
            "        {\n",
            "            \"nama\": \"Rendang\",\n",
            "            \"daerah\": \"Sumatera Barat\",\n",
            "            \"bahan\": [\n",
            "                \"Daging sapi\",\n",
            "                \"Santan\",\n",
            "                \"Bumbu rendang\"\n",
            "            ],\n",
            "            \"cara_memasak\": \"Masak daging dengan bumbu hingga empuk.\"\n",
            "        },\n",
            "        {\n",
            "            \"nama\": \"Sate\",\n",
            "            \"daerah\": \"Jawa\",\n",
            "            \"bahan\": [\n",
            "                \"Daging ayam\",\n",
            "                \"Kecap\",\n",
            "                \"Bumbu sate\"\n",
            "            ],\n",
            "            \"cara_memasak\": \"Tusuk daging dan bakar hingga matang.\"\n",
            "        },\n",
            "        {\n",
            "            \"nama\": \"Nasi Goreng\",\n",
            "            \"daerah\": \"Seluruh Indonesia\",\n",
            "            \"bahan\": [\n",
            "                \"Nasi\",\n",
            "                \"Kecap\",\n",
            "                \"Sayuran\"\n",
            "            ],\n",
            "            \"cara_memasak\": \"Tumis semua bahan dan campurkan nasi.\"\n",
            "        }\n",
            "    ]\n",
            "}\n"
          ]
        }
      ]
    }
  ]
}